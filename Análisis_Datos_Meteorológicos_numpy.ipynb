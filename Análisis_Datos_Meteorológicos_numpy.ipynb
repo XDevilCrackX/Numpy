{
 "cells": [
  {
   "metadata": {
    "collapsed": true
   },
   "cell_type": "markdown",
   "source": [
    "# Análisis de Datos Meteorológicos\n",
    "\n",
    "Este proyecto consiste en analizar un conjunto de datos meteorológicos usando `Pandas` y `NumPy`. El objetivo es aplicar las técnicas de manipulación de arrays, tratamiento de datos faltantes y análisis estadístico basico en un conjunto de datos del mundo real.\n",
    "\n",
    "### Tareas a realizar:\n",
    "1. Crear un DataFrame a partir de los datos del archivo **datos_meteorologicos.csv**.\n",
    "2. Realizar observaciones iniciales de los Datos con `Pandas`.\n",
    "3. Convertir las columnas del DataFrame en arrays de `NumPy`.\n",
    "4. Identificar los datos faltantes en los arrays y reemplazar esos valores faltantes por el promedio de los valores del respectivo array.\n",
    "5. Realizar análisis estadísticos básicos. Mínimamente se espera que puedas extraer la siguiente información de tus arrays.\n",
    "    * La temperatura promedio.\n",
    "    * El total de precipitaciones.\n",
    "    * La maxima humedad registrada.\n",
    "    * La fecha más calurosa.\n",
    "    * La fecha más fría.\n",
    "6. Exportar los resultados a un nuevo archivo .CSV."
   ],
   "id": "36006188dee3b091"
  },
  {
   "metadata": {},
   "cell_type": "markdown",
   "source": "### Crea un DataFrame a partir del archivo de datos_meteorologicos.csv",
   "id": "c97fe1a4288acf42"
  },
  {
   "metadata": {
    "ExecuteTime": {
     "end_time": "2025-08-29T11:54:25.767657Z",
     "start_time": "2025-08-29T11:54:25.249402Z"
    }
   },
   "cell_type": "code",
   "source": [
    "import pandas as pd\n",
    "import numpy as np\n",
    "\n",
    "ruta = '/_DATA/datos_meteorologicos.csv'\n",
    "df = pd.read_csv(ruta)\n",
    "df"
   ],
   "id": "e1964f2b718507fe",
   "outputs": [
    {
     "data": {
      "text/plain": [
       "           Fecha  Temperatura  Precipitación    Humedad\n",
       "0     01/01/2010    17.440675      10.957482  52.384637\n",
       "1     02/01/2010    25.759468       5.315628  30.633530\n",
       "2     03/01/2010    20.138169      15.317706  41.496715\n",
       "3     04/01/2010    17.244159      13.151008  90.684704\n",
       "4     05/01/2010    11.182740      16.413667  22.116422\n",
       "...          ...          ...            ...        ...\n",
       "5105  24/12/2023    -9.554692      12.700998  50.094533\n",
       "5106  25/12/2023     2.837831       5.475686  92.456057\n",
       "5107  26/12/2023    29.873597       4.615012  18.362847\n",
       "5108  27/12/2023          NaN            NaN        NaN\n",
       "5109  28/12/2023    37.308043       7.330510  50.646211\n",
       "\n",
       "[5110 rows x 4 columns]"
      ],
      "text/html": [
       "<div>\n",
       "<style scoped>\n",
       "    .dataframe tbody tr th:only-of-type {\n",
       "        vertical-align: middle;\n",
       "    }\n",
       "\n",
       "    .dataframe tbody tr th {\n",
       "        vertical-align: top;\n",
       "    }\n",
       "\n",
       "    .dataframe thead th {\n",
       "        text-align: right;\n",
       "    }\n",
       "</style>\n",
       "<table border=\"1\" class=\"dataframe\">\n",
       "  <thead>\n",
       "    <tr style=\"text-align: right;\">\n",
       "      <th></th>\n",
       "      <th>Fecha</th>\n",
       "      <th>Temperatura</th>\n",
       "      <th>Precipitación</th>\n",
       "      <th>Humedad</th>\n",
       "    </tr>\n",
       "  </thead>\n",
       "  <tbody>\n",
       "    <tr>\n",
       "      <th>0</th>\n",
       "      <td>01/01/2010</td>\n",
       "      <td>17.440675</td>\n",
       "      <td>10.957482</td>\n",
       "      <td>52.384637</td>\n",
       "    </tr>\n",
       "    <tr>\n",
       "      <th>1</th>\n",
       "      <td>02/01/2010</td>\n",
       "      <td>25.759468</td>\n",
       "      <td>5.315628</td>\n",
       "      <td>30.633530</td>\n",
       "    </tr>\n",
       "    <tr>\n",
       "      <th>2</th>\n",
       "      <td>03/01/2010</td>\n",
       "      <td>20.138169</td>\n",
       "      <td>15.317706</td>\n",
       "      <td>41.496715</td>\n",
       "    </tr>\n",
       "    <tr>\n",
       "      <th>3</th>\n",
       "      <td>04/01/2010</td>\n",
       "      <td>17.244159</td>\n",
       "      <td>13.151008</td>\n",
       "      <td>90.684704</td>\n",
       "    </tr>\n",
       "    <tr>\n",
       "      <th>4</th>\n",
       "      <td>05/01/2010</td>\n",
       "      <td>11.182740</td>\n",
       "      <td>16.413667</td>\n",
       "      <td>22.116422</td>\n",
       "    </tr>\n",
       "    <tr>\n",
       "      <th>...</th>\n",
       "      <td>...</td>\n",
       "      <td>...</td>\n",
       "      <td>...</td>\n",
       "      <td>...</td>\n",
       "    </tr>\n",
       "    <tr>\n",
       "      <th>5105</th>\n",
       "      <td>24/12/2023</td>\n",
       "      <td>-9.554692</td>\n",
       "      <td>12.700998</td>\n",
       "      <td>50.094533</td>\n",
       "    </tr>\n",
       "    <tr>\n",
       "      <th>5106</th>\n",
       "      <td>25/12/2023</td>\n",
       "      <td>2.837831</td>\n",
       "      <td>5.475686</td>\n",
       "      <td>92.456057</td>\n",
       "    </tr>\n",
       "    <tr>\n",
       "      <th>5107</th>\n",
       "      <td>26/12/2023</td>\n",
       "      <td>29.873597</td>\n",
       "      <td>4.615012</td>\n",
       "      <td>18.362847</td>\n",
       "    </tr>\n",
       "    <tr>\n",
       "      <th>5108</th>\n",
       "      <td>27/12/2023</td>\n",
       "      <td>NaN</td>\n",
       "      <td>NaN</td>\n",
       "      <td>NaN</td>\n",
       "    </tr>\n",
       "    <tr>\n",
       "      <th>5109</th>\n",
       "      <td>28/12/2023</td>\n",
       "      <td>37.308043</td>\n",
       "      <td>7.330510</td>\n",
       "      <td>50.646211</td>\n",
       "    </tr>\n",
       "  </tbody>\n",
       "</table>\n",
       "<p>5110 rows × 4 columns</p>\n",
       "</div>"
      ]
     },
     "execution_count": 1,
     "metadata": {},
     "output_type": "execute_result"
    }
   ],
   "execution_count": 1
  },
  {
   "metadata": {},
   "cell_type": "markdown",
   "source": "### Realiza observaciones iniciales de los datos con Pandas",
   "id": "900369d733c6b90a"
  },
  {
   "metadata": {
    "ExecuteTime": {
     "end_time": "2025-08-29T11:54:56.694030Z",
     "start_time": "2025-08-29T11:54:56.686790Z"
    }
   },
   "cell_type": "code",
   "source": "df.info()",
   "id": "3d4f5b187944ddba",
   "outputs": [
    {
     "name": "stdout",
     "output_type": "stream",
     "text": [
      "<class 'pandas.core.frame.DataFrame'>\n",
      "RangeIndex: 5110 entries, 0 to 5109\n",
      "Data columns (total 4 columns):\n",
      " #   Column         Non-Null Count  Dtype  \n",
      "---  ------         --------------  -----  \n",
      " 0   Fecha          5110 non-null   object \n",
      " 1   Temperatura    4855 non-null   float64\n",
      " 2   Precipitación  4855 non-null   float64\n",
      " 3   Humedad        4855 non-null   float64\n",
      "dtypes: float64(3), object(1)\n",
      "memory usage: 159.8+ KB\n"
     ]
    }
   ],
   "execution_count": 2
  },
  {
   "metadata": {
    "ExecuteTime": {
     "end_time": "2025-08-29T11:55:04.843362Z",
     "start_time": "2025-08-29T11:55:04.832263Z"
    }
   },
   "cell_type": "code",
   "source": "df.describe()",
   "id": "64debd1bbc7b2cb3",
   "outputs": [
    {
     "data": {
      "text/plain": [
       "       Temperatura  Precipitación      Humedad\n",
       "count  4855.000000    4855.000000  4855.000000\n",
       "mean     14.889296       9.901604    54.359061\n",
       "std      14.440466       5.801842    26.096345\n",
       "min      -9.996378       0.003008    10.014980\n",
       "25%       2.651777       4.756907    31.866578\n",
       "50%      14.693274       9.853698    54.254478\n",
       "75%      27.381451      14.966997    77.029500\n",
       "max      39.998201      19.999559    99.996582"
      ],
      "text/html": [
       "<div>\n",
       "<style scoped>\n",
       "    .dataframe tbody tr th:only-of-type {\n",
       "        vertical-align: middle;\n",
       "    }\n",
       "\n",
       "    .dataframe tbody tr th {\n",
       "        vertical-align: top;\n",
       "    }\n",
       "\n",
       "    .dataframe thead th {\n",
       "        text-align: right;\n",
       "    }\n",
       "</style>\n",
       "<table border=\"1\" class=\"dataframe\">\n",
       "  <thead>\n",
       "    <tr style=\"text-align: right;\">\n",
       "      <th></th>\n",
       "      <th>Temperatura</th>\n",
       "      <th>Precipitación</th>\n",
       "      <th>Humedad</th>\n",
       "    </tr>\n",
       "  </thead>\n",
       "  <tbody>\n",
       "    <tr>\n",
       "      <th>count</th>\n",
       "      <td>4855.000000</td>\n",
       "      <td>4855.000000</td>\n",
       "      <td>4855.000000</td>\n",
       "    </tr>\n",
       "    <tr>\n",
       "      <th>mean</th>\n",
       "      <td>14.889296</td>\n",
       "      <td>9.901604</td>\n",
       "      <td>54.359061</td>\n",
       "    </tr>\n",
       "    <tr>\n",
       "      <th>std</th>\n",
       "      <td>14.440466</td>\n",
       "      <td>5.801842</td>\n",
       "      <td>26.096345</td>\n",
       "    </tr>\n",
       "    <tr>\n",
       "      <th>min</th>\n",
       "      <td>-9.996378</td>\n",
       "      <td>0.003008</td>\n",
       "      <td>10.014980</td>\n",
       "    </tr>\n",
       "    <tr>\n",
       "      <th>25%</th>\n",
       "      <td>2.651777</td>\n",
       "      <td>4.756907</td>\n",
       "      <td>31.866578</td>\n",
       "    </tr>\n",
       "    <tr>\n",
       "      <th>50%</th>\n",
       "      <td>14.693274</td>\n",
       "      <td>9.853698</td>\n",
       "      <td>54.254478</td>\n",
       "    </tr>\n",
       "    <tr>\n",
       "      <th>75%</th>\n",
       "      <td>27.381451</td>\n",
       "      <td>14.966997</td>\n",
       "      <td>77.029500</td>\n",
       "    </tr>\n",
       "    <tr>\n",
       "      <th>max</th>\n",
       "      <td>39.998201</td>\n",
       "      <td>19.999559</td>\n",
       "      <td>99.996582</td>\n",
       "    </tr>\n",
       "  </tbody>\n",
       "</table>\n",
       "</div>"
      ]
     },
     "execution_count": 3,
     "metadata": {},
     "output_type": "execute_result"
    }
   ],
   "execution_count": 3
  },
  {
   "metadata": {
    "ExecuteTime": {
     "end_time": "2025-08-29T11:55:13.998161Z",
     "start_time": "2025-08-29T11:55:13.991138Z"
    }
   },
   "cell_type": "code",
   "source": "df.shape",
   "id": "3d03541b7a468301",
   "outputs": [
    {
     "data": {
      "text/plain": [
       "(5110, 4)"
      ]
     },
     "execution_count": 4,
     "metadata": {},
     "output_type": "execute_result"
    }
   ],
   "execution_count": 4
  },
  {
   "metadata": {},
   "cell_type": "markdown",
   "source": "### Convertir las columnas de mi DataFrame en arrays",
   "id": "1a39bb223f443ae1"
  },
  {
   "metadata": {
    "ExecuteTime": {
     "end_time": "2025-08-29T11:59:21.846299Z",
     "start_time": "2025-08-29T11:59:21.841550Z"
    }
   },
   "cell_type": "code",
   "source": [
    "temperatura = df['Temperatura'].to_numpy()\n",
    "precipitacion = df['Precipitación'].to_numpy()\n",
    "humedad = df['Humedad'].to_numpy()\n",
    "\n",
    "temperatura"
   ],
   "id": "92db9de3adb9c5b0",
   "outputs": [
    {
     "data": {
      "text/plain": [
       "array([17.4406752 , 25.75946832, 20.1381688 , ..., 29.87359717,\n",
       "               nan, 37.30804318], shape=(5110,))"
      ]
     },
     "execution_count": 5,
     "metadata": {},
     "output_type": "execute_result"
    }
   ],
   "execution_count": 5
  },
  {
   "metadata": {},
   "cell_type": "markdown",
   "source": "### Identificar los datos faltantes en los arrays y reemplazarlos por el promedio de los valores del respectivo array",
   "id": "eed822e68fe3cf47"
  },
  {
   "metadata": {
    "ExecuteTime": {
     "end_time": "2025-08-29T12:01:47.970583Z",
     "start_time": "2025-08-29T12:01:47.965179Z"
    }
   },
   "cell_type": "code",
   "source": [
    "# Identificar los datos faltantes con isnan()\n",
    "temp_nulo = np.isnan(temperatura)\n",
    "precip_nulo = np.isnan(precipitacion)\n",
    "humed_nulo = np.isnan(humedad)\n",
    "\n",
    "temp_nulo"
   ],
   "id": "4726c67e8ebcc757",
   "outputs": [
    {
     "data": {
      "text/plain": [
       "array([False, False, False, ..., False,  True, False], shape=(5110,))"
      ]
     },
     "execution_count": 6,
     "metadata": {},
     "output_type": "execute_result"
    }
   ],
   "execution_count": 6
  },
  {
   "metadata": {
    "ExecuteTime": {
     "end_time": "2025-08-29T12:03:44.886973Z",
     "start_time": "2025-08-29T12:03:44.881402Z"
    }
   },
   "cell_type": "code",
   "source": [
    "# Identificar el promedio de cada array\n",
    "temp_promedio = np.nanmean(temperatura)\n",
    "precip_promedio = np.nanmean(precipitacion)\n",
    "humed_promedio = np.nanmean(humedad)\n",
    "\n",
    "# Reemplazar los valores nulos con el promedio del array\n",
    "temperatura[temp_nulo] = temp_promedio\n",
    "precipitacion[precip_nulo] = precip_promedio\n",
    "humedad[humed_nulo] = humed_promedio\n",
    "\n",
    "temperatura"
   ],
   "id": "edb46baf2af4354e",
   "outputs": [
    {
     "data": {
      "text/plain": [
       "array([17.4406752 , 25.75946832, 20.1381688 , ..., 29.87359717,\n",
       "       14.88929572, 37.30804318], shape=(5110,))"
      ]
     },
     "execution_count": 7,
     "metadata": {},
     "output_type": "execute_result"
    }
   ],
   "execution_count": 7
  },
  {
   "metadata": {
    "ExecuteTime": {
     "end_time": "2025-08-29T12:30:00.234936Z",
     "start_time": "2025-08-29T12:30:00.231511Z"
    }
   },
   "cell_type": "code",
   "source": [
    "# Metodo alternativo para lograr el mismo resultado\n",
    "# temp_corregido = np.where(np.isnan(temperatura), temp_promedio, temperatura)\n",
    "# temp_corregido"
   ],
   "id": "73c15c22f4dd2afd",
   "outputs": [],
   "execution_count": 16
  },
  {
   "metadata": {},
   "cell_type": "markdown",
   "source": "### Realizar analisis estadisticos basicos",
   "id": "a13d74a413494ce0"
  },
  {
   "metadata": {},
   "cell_type": "markdown",
   "source": "#### Temperatura promedio",
   "id": "aaca19add52dfc7f"
  },
  {
   "metadata": {
    "ExecuteTime": {
     "end_time": "2025-08-29T12:09:53.258301Z",
     "start_time": "2025-08-29T12:09:53.253289Z"
    }
   },
   "cell_type": "code",
   "source": [
    "temp_promedio = np.nanmean(temperatura)\n",
    "temp_promedio"
   ],
   "id": "7bfb817463ff6f61",
   "outputs": [
    {
     "data": {
      "text/plain": [
       "np.float64(14.889295723531713)"
      ]
     },
     "execution_count": 8,
     "metadata": {},
     "output_type": "execute_result"
    }
   ],
   "execution_count": 8
  },
  {
   "metadata": {},
   "cell_type": "markdown",
   "source": "#### Total de precipitaciones",
   "id": "98c90414038db846"
  },
  {
   "metadata": {
    "ExecuteTime": {
     "end_time": "2025-08-29T12:12:23.372903Z",
     "start_time": "2025-08-29T12:12:23.367779Z"
    }
   },
   "cell_type": "code",
   "source": [
    "precipitacion_total = np.sum(precipitacion)\n",
    "precipitacion_total"
   ],
   "id": "60dbf2b74833785",
   "outputs": [
    {
     "data": {
      "text/plain": [
       "np.float64(50597.19438939993)"
      ]
     },
     "execution_count": 9,
     "metadata": {},
     "output_type": "execute_result"
    }
   ],
   "execution_count": 9
  },
  {
   "metadata": {},
   "cell_type": "markdown",
   "source": "#### Maxima humedad registrada",
   "id": "2820d36016af46cc"
  },
  {
   "metadata": {
    "ExecuteTime": {
     "end_time": "2025-08-29T12:13:25.054903Z",
     "start_time": "2025-08-29T12:13:25.048560Z"
    }
   },
   "cell_type": "code",
   "source": [
    "humedad_maxima = np.max(humedad)\n",
    "humedad_maxima"
   ],
   "id": "d5320e8546115510",
   "outputs": [
    {
     "data": {
      "text/plain": [
       "np.float64(99.99658156071747)"
      ]
     },
     "execution_count": 10,
     "metadata": {},
     "output_type": "execute_result"
    }
   ],
   "execution_count": 10
  },
  {
   "metadata": {},
   "cell_type": "markdown",
   "source": "#### Fecha mas calurosa",
   "id": "c809dfff3e1574c1"
  },
  {
   "metadata": {
    "ExecuteTime": {
     "end_time": "2025-08-29T12:14:30.985313Z",
     "start_time": "2025-08-29T12:14:30.981041Z"
    }
   },
   "cell_type": "code",
   "source": [
    "# Identificar la temperatura mas alta\n",
    "mas_calor = np.max(temperatura)\n",
    "mas_calor"
   ],
   "id": "467153a2a2dd008e",
   "outputs": [
    {
     "data": {
      "text/plain": [
       "np.float64(39.99820092713012)"
      ]
     },
     "execution_count": 11,
     "metadata": {},
     "output_type": "execute_result"
    }
   ],
   "execution_count": 11
  },
  {
   "metadata": {
    "ExecuteTime": {
     "end_time": "2025-08-29T12:15:58.475772Z",
     "start_time": "2025-08-29T12:15:58.471628Z"
    }
   },
   "cell_type": "code",
   "source": [
    "# Registro correspondiente a la temperatura mas alta\n",
    "registro_mas_caluroso = np.where(temperatura == mas_calor)[0][0]\n",
    "registro_mas_caluroso"
   ],
   "id": "504b0542fc2289c0",
   "outputs": [
    {
     "data": {
      "text/plain": [
       "np.int64(2749)"
      ]
     },
     "execution_count": 12,
     "metadata": {},
     "output_type": "execute_result"
    }
   ],
   "execution_count": 12
  },
  {
   "metadata": {
    "ExecuteTime": {
     "end_time": "2025-08-29T12:16:56.247539Z",
     "start_time": "2025-08-29T12:16:56.242499Z"
    }
   },
   "cell_type": "code",
   "source": [
    "# Fecha correspondiente al registro mas caluroso\n",
    "fecha_mas_calurosa = df.iloc[registro_mas_caluroso]['Fecha']\n",
    "fecha_mas_calurosa"
   ],
   "id": "aa0d186dd2bf1a85",
   "outputs": [
    {
     "data": {
      "text/plain": [
       "'12/07/2017'"
      ]
     },
     "execution_count": 13,
     "metadata": {},
     "output_type": "execute_result"
    }
   ],
   "execution_count": 13
  },
  {
   "metadata": {},
   "cell_type": "markdown",
   "source": "#### Fecha mas fria",
   "id": "e46a1b2fbed0c445"
  },
  {
   "metadata": {
    "ExecuteTime": {
     "end_time": "2025-08-29T12:20:45.765650Z",
     "start_time": "2025-08-29T12:20:45.761747Z"
    }
   },
   "cell_type": "code",
   "source": [
    "fecha_mas_fria = df.iloc[np.where(temperatura == np.min(temperatura))[0][0]]['Fecha']\n",
    "fecha_mas_fria"
   ],
   "id": "46584da1afc08b48",
   "outputs": [
    {
     "data": {
      "text/plain": [
       "'23/07/2020'"
      ]
     },
     "execution_count": 15,
     "metadata": {},
     "output_type": "execute_result"
    }
   ],
   "execution_count": 15
  },
  {
   "metadata": {},
   "cell_type": "markdown",
   "source": "#### Exportar los resultados a un nuevo archivo csv",
   "id": "175ea47976711605"
  },
  {
   "metadata": {
    "ExecuteTime": {
     "end_time": "2025-08-29T12:31:46.933839Z",
     "start_time": "2025-08-29T12:31:46.921421Z"
    }
   },
   "cell_type": "code",
   "source": [
    "resultados = pd.DataFrame({\n",
    "    'Metrica': ['Temperatura promedio', 'Precipitación Total', 'Maxima humedad', 'Dia mas caluroso', 'Dia mas frio'],\n",
    "    'Valor': [temp_promedio, precipitacion_total, humedad_maxima, fecha_mas_calurosa, fecha_mas_fria]\n",
    "})\n",
    "\n",
    "# Guardar los resultados en un nuevo archivo csv\n",
    "resultados.to_csv('/_DATA/Resultados_Meteorologicos.csv', index=False)"
   ],
   "id": "f5b0dda89cb1fa5d",
   "outputs": [],
   "execution_count": 17
  }
 ],
 "metadata": {
  "kernelspec": {
   "display_name": "Python 3",
   "language": "python",
   "name": "python3"
  },
  "language_info": {
   "codemirror_mode": {
    "name": "ipython",
    "version": 2
   },
   "file_extension": ".py",
   "mimetype": "text/x-python",
   "name": "python",
   "nbconvert_exporter": "python",
   "pygments_lexer": "ipython2",
   "version": "2.7.6"
  }
 },
 "nbformat": 4,
 "nbformat_minor": 5
}
